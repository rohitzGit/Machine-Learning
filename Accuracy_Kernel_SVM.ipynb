{
 "cells": [
  {
   "cell_type": "code",
   "execution_count": 24,
   "metadata": {},
   "outputs": [],
   "source": [
    "import pandas as pd\n",
    "import numpy as np\n",
    "import matplotlib.pyplot as plt\n",
    "import seaborn as sns\n",
    "import math\n",
    "from scipy import stats\n",
    "from sklearn.preprocessing import LabelEncoder,OneHotEncoder\n",
    "from sklearn.model_selection import GridSearchCV\n",
    "from sklearn.ensemble import RandomForestClassifier\n",
    "from sklearn.model_selection import cross_val_score\n",
    "from sklearn.model_selection import train_test_split\n",
    "from sklearn.decomposition import PCA\n",
    "from sklearn.metrics import confusion_matrix\n",
    "from sklearn.svm import SVC"
   ]
  },
  {
   "cell_type": "code",
   "execution_count": 2,
   "metadata": {},
   "outputs": [],
   "source": [
    "# Read the csv file and parse dates\n",
    "dataset = pd.read_csv('pea_data_random_1000_rows.csv',\n",
    "                      sep=';',\n",
    "                      parse_dates=['due_date','date_planned_initial_end','date_target_end',\n",
    "                                   'first_coil_end_date','first_coil_released_date',\n",
    "                                   'first_coil_delivered_date','last_coil_end_date',\n",
    "                                   'last_coil_released_date','last_coil_delivered_date'])"
   ]
  },
  {
   "cell_type": "code",
   "execution_count": 3,
   "metadata": {},
   "outputs": [],
   "source": [
    "# Converting the categorical column datatype -> reduce the file size\n",
    "dataset['steel_grade_int_text_en'] = dataset['steel_grade_int_text_en'].astype('category')\n",
    "dataset['steel_grade_group_text'] = dataset['steel_grade_group_text'].astype('category')\n",
    "dataset['value_name'] = dataset['value_name'].astype('category')"
   ]
  },
  {
   "cell_type": "code",
   "execution_count": 4,
   "metadata": {},
   "outputs": [],
   "source": [
    "# Removing the columns with minimal variance \n",
    "dataset.drop(columns=['Unnamed: 0','customer_order_id','production_order_id','rh_mode','q2count',\n",
    "                      'q3count','total_downgrade_weight','hr_downgrade_weight','hrgi_downgrade_weight',\n",
    "                      'hrp_downgrade_weight','crfh_downgrade_weight','crfp_downgrade_weight',\n",
    "                      'crca_downgrade_weight','crgi_downgrade_weight'],axis=1,inplace=True)"
   ]
  },
  {
   "cell_type": "code",
   "execution_count": 5,
   "metadata": {},
   "outputs": [],
   "source": [
    "# Fetching the loc of columnns for categorical value to numerical value encoding\n",
    "dataset.columns.get_loc('steel_grade_int_text_en')    #15\n",
    "dataset.columns.get_loc('steel_grade_group_text')     #16\n",
    "dataset.columns.get_loc('value_name')                 #20\n",
    "\n",
    "# Converting the categorical -> numerical columns\n",
    "label_encoder_x_1 = LabelEncoder() \n",
    "dataset.iloc[:,12] = label_encoder_x_1.fit_transform(dataset.iloc[:,12])\n",
    "\n",
    "label_encoder_x_2 = LabelEncoder() \n",
    "dataset.iloc[:,13] = label_encoder_x_2.fit_transform(dataset.iloc[:,13])\n",
    "\n",
    "label_encoder_x_3 = LabelEncoder() \n",
    "dataset.iloc[:,15] = label_encoder_x_3.fit_transform(dataset.iloc[:,15])"
   ]
  },
  {
   "cell_type": "code",
   "execution_count": 6,
   "metadata": {},
   "outputs": [],
   "source": [
    "# Cast data type of date columns\n",
    "# Work around for due_date as it was returing error\n",
    "dataset['due_date'] = pd.to_datetime(dataset['due_date'],errors = 'coerce') #Out of bounds nanosecond timestamp\n",
    "dataset['due_date'] = dataset['due_date'].values.astype('datetime64[D]') #Convert datatype into datetime64\n",
    "\n",
    "dataset['date_planned_initial_end']=pd.to_datetime(dataset['date_planned_initial_end'])\n",
    "dataset['date_target_end']=pd.to_datetime(dataset['date_target_end'])\n",
    "dataset['first_coil_end_date']=pd.to_datetime(dataset['first_coil_end_date'])\n",
    "dataset['first_coil_released_date']=pd.to_datetime(dataset['first_coil_released_date'])\n",
    "dataset['first_coil_delivered_date']=pd.to_datetime(dataset['first_coil_delivered_date'])\n",
    "dataset['last_coil_end_date']=pd.to_datetime(dataset['last_coil_end_date'])\n",
    "dataset['last_coil_released_date']=pd.to_datetime(dataset['last_coil_released_date'])\n",
    "dataset['last_coil_delivered_date']=pd.to_datetime(dataset['last_coil_delivered_date'])"
   ]
  },
  {
   "cell_type": "code",
   "execution_count": 7,
   "metadata": {},
   "outputs": [],
   "source": [
    "# Taking difference (as number of days) between possible datetime columns instead of actual dates\n",
    "dataset['difference_days_1'] = ((dataset['due_date']-dataset['date_planned_initial_end']).dt.days)\n",
    "dataset['difference_days_2'] = (dataset['date_planned_initial_end']-dataset['date_target_end']).dt.days\n",
    "dataset['difference_days_3'] = (dataset['due_date']-dataset['date_target_end']).dt.days\n",
    "dataset['difference_days_4'] = (dataset['first_coil_end_date']-dataset['first_coil_released_date']).dt.days\n",
    "dataset['difference_days_5'] = (dataset['first_coil_released_date']-dataset['first_coil_delivered_date']).dt.days\n",
    "dataset['difference_days_6'] = (dataset['first_coil_end_date']-dataset['first_coil_delivered_date']).dt.days\n",
    "dataset['difference_days_7'] = (dataset['last_coil_end_date']-dataset['last_coil_released_date']).dt.days\n",
    "dataset['difference_days_8'] = (dataset['last_coil_released_date']-dataset['last_coil_delivered_date']).dt.days\n",
    "dataset['difference_days_9'] = (dataset['last_coil_end_date']-dataset['last_coil_delivered_date']).dt.days"
   ]
  },
  {
   "cell_type": "code",
   "execution_count": 8,
   "metadata": {},
   "outputs": [],
   "source": [
    "# Dropping the unrequired columns as the difference has already been calculated and respective new columns have been\n",
    "# created with suffix difference_days_?\n",
    "dataset.drop(columns=['due_date','date_planned_initial_end','date_target_end',\n",
    "                                   'first_coil_end_date','first_coil_released_date',\n",
    "                                   'first_coil_delivered_date','last_coil_end_date',\n",
    "                                   'last_coil_released_date','last_coil_delivered_date'],axis=1,inplace=True)"
   ]
  },
  {
   "cell_type": "code",
   "execution_count": 9,
   "metadata": {},
   "outputs": [],
   "source": [
    "# Function to convert all the column data types to string for data manipulation\n",
    "def convert_to_string(s):\n",
    "    if isinstance(s,object):\n",
    "        return s\n",
    "    elif isinstance(s,int):\n",
    "        return s\n",
    "\n",
    "for key,value in dataset.iteritems():\n",
    "    dataset[key] = value.apply(convert_to_string)\n",
    "    dataset[key] = value.astype(str)"
   ]
  },
  {
   "cell_type": "code",
   "execution_count": 10,
   "metadata": {},
   "outputs": [],
   "source": [
    "# Function to replace , by . for further conversion to float64\n",
    "def replace_comma(s):\n",
    "    return s.replace(',','.')\n",
    "\n",
    "for key,value in dataset.iteritems():\n",
    "    dataset[key] = value.apply(replace_comma)"
   ]
  },
  {
   "cell_type": "code",
   "execution_count": 11,
   "metadata": {},
   "outputs": [],
   "source": [
    "# Function to convert all the column data types to float64 for consistency\n",
    "def to_float(s):\n",
    "    if isinstance(s,object):\n",
    "        return s\n",
    "\n",
    "for key,value in dataset.iteritems():\n",
    "    dataset[key] = value.apply(to_float)\n",
    "    dataset[key] = value.astype(float)"
   ]
  },
  {
   "cell_type": "code",
   "execution_count": 12,
   "metadata": {},
   "outputs": [],
   "source": [
    "# Restructuring the columns\n",
    "cols = dataset.columns.to_list()\n",
    "cols = cols[0:17] + cols[18:] + [cols[17]]\n",
    "dataset = dataset.reindex(columns=cols)"
   ]
  },
  {
   "cell_type": "code",
   "execution_count": 13,
   "metadata": {},
   "outputs": [
    {
     "data": {
      "text/plain": [
       "(array([  1.,   1.,   1.,   2.,   7.,  16.,  83., 259., 512., 118.]),\n",
       " array([-19127261. , -16897139.4, -14667017.8, -12436896.2, -10206774.6,\n",
       "         -7976653. ,  -5746531.4,  -3516409.8,  -1286288.2,    943833.4,\n",
       "          3173955. ]),\n",
       " <a list of 10 Patch objects>)"
      ]
     },
     "execution_count": 13,
     "metadata": {},
     "output_type": "execute_result"
    },
    {
     "data": {
      "image/png": "[encoded data removed]",
      "text/plain": [
       "<Figure size 432x288 with 1 Axes>"
      ]
     },
     "metadata": {
      "needs_background": "light"
     },
     "output_type": "display_data"
    }
   ],
   "source": [
    "#Plotting to see the distribution \n",
    "plt.hist(dataset['lateness'])"
   ]
  },
  {
   "cell_type": "code",
   "execution_count": 14,
   "metadata": {},
   "outputs": [],
   "source": [
    "# Update lateness column - assuming lateness<0 as 'late' and lateness>0 as 'not late'\n",
    "# if lateness< 0 then update to 0 and if lateness>0 update to 1 for classification\n",
    "import math\n",
    "def update_lateness(value):\n",
    "    return int(value>0)\n",
    "\n",
    "dataset['lateness'] = dataset['lateness'].apply(update_lateness)"
   ]
  },
  {
   "cell_type": "code",
   "execution_count": 15,
   "metadata": {},
   "outputs": [],
   "source": [
    "# Data Wrangling\n",
    "# Infinite values were found, so removed them and also if there are any NaNs present on values\n",
    "dataset = dataset[~dataset.isin([np.nan, np.inf, -np.inf]).any(1)]"
   ]
  },
  {
   "cell_type": "code",
   "execution_count": 16,
   "metadata": {},
   "outputs": [],
   "source": [
    "#Removing outliers as it is affected by PCA\n",
    "z_scores = stats.zscore(dataset)\n",
    "abs_z_scores = np.abs(z_scores)\n",
    "filtered_entries = (abs_z_scores < 3).all(axis=1)\n",
    "dataset = dataset[filtered_entries]"
   ]
  },
  {
   "cell_type": "code",
   "execution_count": null,
   "metadata": {},
   "outputs": [],
   "source": [
    "#Pairplot for overview of correlations\n",
    "sns.pairplot(dataset)"
   ]
  },
  {
   "cell_type": "code",
   "execution_count": 17,
   "metadata": {
    "collapsed": true
   },
   "outputs": [
    {
     "name": "stderr",
     "output_type": "stream",
     "text": [
      "/Applications/Utilities/anaconda3/lib/python3.7/site-packages/sklearn/preprocessing/_encoders.py:415: FutureWarning: The handling of integer data will change in version 0.22. Currently, the categories are determined based on the range [0, max(values)], while in the future they will be determined based on the unique values.\n",
      "If you want the future behaviour and silence this warning, you can specify \"categories='auto'\".\n",
      "In case you used a LabelEncoder before this OneHotEncoder to convert the categories to integers, then you can now use the OneHotEncoder directly.\n",
      "  warnings.warn(msg, FutureWarning)\n",
      "/Applications/Utilities/anaconda3/lib/python3.7/site-packages/sklearn/preprocessing/_encoders.py:451: DeprecationWarning: The 'categorical_features' keyword is deprecated in version 0.20 and will be removed in 0.22. You can use the ColumnTransformer instead.\n",
      "  \"use the ColumnTransformer instead.\", DeprecationWarning)\n",
      "/Applications/Utilities/anaconda3/lib/python3.7/site-packages/sklearn/preprocessing/_encoders.py:415: FutureWarning: The handling of integer data will change in version 0.22. Currently, the categories are determined based on the range [0, max(values)], while in the future they will be determined based on the unique values.\n",
      "If you want the future behaviour and silence this warning, you can specify \"categories='auto'\".\n",
      "In case you used a LabelEncoder before this OneHotEncoder to convert the categories to integers, then you can now use the OneHotEncoder directly.\n",
      "  warnings.warn(msg, FutureWarning)\n",
      "/Applications/Utilities/anaconda3/lib/python3.7/site-packages/sklearn/preprocessing/_encoders.py:451: DeprecationWarning: The 'categorical_features' keyword is deprecated in version 0.20 and will be removed in 0.22. You can use the ColumnTransformer instead.\n",
      "  \"use the ColumnTransformer instead.\", DeprecationWarning)\n",
      "/Applications/Utilities/anaconda3/lib/python3.7/site-packages/sklearn/preprocessing/_encoders.py:415: FutureWarning: The handling of integer data will change in version 0.22. Currently, the categories are determined based on the range [0, max(values)], while in the future they will be determined based on the unique values.\n",
      "If you want the future behaviour and silence this warning, you can specify \"categories='auto'\".\n",
      "In case you used a LabelEncoder before this OneHotEncoder to convert the categories to integers, then you can now use the OneHotEncoder directly.\n",
      "  warnings.warn(msg, FutureWarning)\n",
      "/Applications/Utilities/anaconda3/lib/python3.7/site-packages/sklearn/preprocessing/_encoders.py:451: DeprecationWarning: The 'categorical_features' keyword is deprecated in version 0.20 and will be removed in 0.22. You can use the ColumnTransformer instead.\n",
      "  \"use the ColumnTransformer instead.\", DeprecationWarning)\n"
     ]
    }
   ],
   "source": [
    "# Splitting the dataset into Independent variables and Dependent variable\n",
    "x = dataset.iloc[:,0:26].values\n",
    "y = dataset.iloc[:,26].values\n",
    "\n",
    "# Fit and transform the categorical columns\n",
    "onehotencoder = OneHotEncoder(categorical_features=[12])\n",
    "x = onehotencoder.fit_transform(x).toarray()\n",
    "# Removing dummy variable trap by eliminating the first column\n",
    "x = x[:,1:]\n",
    "\n",
    "# Fit and transform the categorical columns\n",
    "onehotencoder = OneHotEncoder(categorical_features=[32])\n",
    "x = onehotencoder.fit_transform(x).toarray()\n",
    "# Removing dummy variable trap by eliminating the first column\n",
    "x = x[:,1:]\n",
    "\n",
    "# Fit and transform the categorical columns\n",
    "onehotencoder = OneHotEncoder(categorical_features=[37])\n",
    "x = onehotencoder.fit_transform(x).toarray()\n",
    "# Removing dummy variable trap by eliminating the first column\n",
    "x = x[:,1:]"
   ]
  },
  {
   "cell_type": "code",
   "execution_count": 33,
   "metadata": {},
   "outputs": [],
   "source": [
    "# Splitting the data into train-test set\n",
    "x_train,x_test,y_train,y_test = train_test_split(x,y,test_size=0.20)\n",
    "\n",
    "# Feature Scaling \n",
    "from sklearn.preprocessing import StandardScaler\n",
    "sc = StandardScaler()\n",
    "x_train = sc.fit_transform(x_train)\n",
    "x_test = sc.transform(x_test)"
   ]
  },
  {
   "cell_type": "code",
   "execution_count": 34,
   "metadata": {},
   "outputs": [
    {
     "data": {
      "text/plain": [
       "array([0.03953772, 0.07629379, 0.11203272, 0.145428  , 0.17833765,\n",
       "       0.2098889 , 0.24037968, 0.26997832, 0.29831657, 0.32597357,\n",
       "       0.35232592, 0.37813509, 0.40290471, 0.42676861, 0.44978794,\n",
       "       0.47271855, 0.49523549, 0.51743195, 0.53925117, 0.56062473,\n",
       "       0.58129124, 0.60170978])"
      ]
     },
     "execution_count": 34,
     "metadata": {},
     "output_type": "execute_result"
    },
    {
     "data": {
      "image/png": "[encoded data removed]",
      "text/plain": [
       "<Figure size 432x288 with 1 Axes>"
      ]
     },
     "metadata": {
      "needs_background": "light"
     },
     "output_type": "display_data"
    }
   ],
   "source": [
    "# Principal Component Analysis\n",
    "pca = PCA(n_components = 22) #to see the variance \n",
    "x_train = pca.fit_transform(x_train)\n",
    "x_test = pca.transform(x_test)\n",
    "explained_variance = pca.explained_variance_ratio_\n",
    "\n",
    "var=np.cumsum(np.round(pca.explained_variance_ratio_, decimals=3)*100)\n",
    "plt.xlabel('Number of Featurs')\n",
    "plt.ylabel('Explained variance in %')\n",
    "plt.ylim(5,105)\n",
    "plt.title('Principal Component Analysis')\n",
    "plt.style.context('seaborn-whitegrid')\n",
    "plt.plot(var)\n",
    "\n",
    "explained_variance.cumsum()\n",
    "# Selecting n_components = 22 as it explains approx 60% of variance in dataset"
   ]
  },
  {
   "cell_type": "code",
   "execution_count": 23,
   "metadata": {},
   "outputs": [
    {
     "data": {
      "text/plain": [
       "SVC(C=1.0, cache_size=200, class_weight=None, coef0=0.0,\n",
       "    decision_function_shape='ovr', degree=3, gamma=0.001, kernel='rbf',\n",
       "    max_iter=-1, probability=False, random_state=0, shrinking=True, tol=0.001,\n",
       "    verbose=False)"
      ]
     },
     "execution_count": 23,
     "metadata": {},
     "output_type": "execute_result"
    }
   ],
   "source": [
    "classifier = SVC(C=1,kernel='rbf',random_state=0,gamma=0.001)\n",
    "classifier.fit(x_train,y_train)"
   ]
  },
  {
   "cell_type": "code",
   "execution_count": 25,
   "metadata": {},
   "outputs": [
    {
     "name": "stdout",
     "output_type": "stream",
     "text": [
      "Accuracy using Confusion Matrix:  64.88 %\n"
     ]
    }
   ],
   "source": [
    "# Creating a y_pred vector with predictions for test-set\n",
    "y_pred = classifier.predict(x_test)\n",
    "\n",
    "# Using confusion matrix for accuracy calculation\n",
    "cm = confusion_matrix(y_test,y_pred)\n",
    "\n",
    "# Calculating accuracy percentage\n",
    "print('Accuracy using Confusion Matrix: ',((cm[0][0]+cm[1][1])*100/(cm[0][0]+cm[1][1]+cm[0][1]+cm[1][0])).round(2),'%')"
   ]
  },
  {
   "cell_type": "code",
   "execution_count": 27,
   "metadata": {},
   "outputs": [
    {
     "name": "stdout",
     "output_type": "stream",
     "text": [
      "Mean accuracy using 10-fold Cross Validation:  65.92259291776413 %\n",
      "Standard Deviation:  0.003353902453124924 %\n"
     ]
    }
   ],
   "source": [
    "# 10-fold Cross Validation\n",
    "accuracies = cross_val_score(estimator=classifier,X=x_train,y=y_train,cv=10)\n",
    "\n",
    "# Mean accuracy for all the folds\n",
    "print('Mean accuracy using 10-fold Cross Validation: ',(accuracies.mean()*100),'%')\n",
    "# -> 65.92%\n",
    "\n",
    "# Standard Deviation\n",
    "print('Standard Deviation: ',(accuracies.std()*100),'%')\n",
    "# -> 0.33% SD "
   ]
  },
  {
   "cell_type": "code",
   "execution_count": 28,
   "metadata": {},
   "outputs": [
    {
     "name": "stderr",
     "output_type": "stream",
     "text": [
      "/Applications/Utilities/anaconda3/lib/python3.7/site-packages/sklearn/model_selection/_search.py:814: DeprecationWarning: The default of the `iid` parameter will change from True to False in version 0.22 and will be removed in 0.24. This will change numeric results when test-set sizes are unequal.\n",
      "  DeprecationWarning)\n"
     ]
    }
   ],
   "source": [
    "#grid search\n",
    "#List of dictionaries, choose the parameters to optimize\n",
    "parameters = [{'C':[1,10,100,1000],'kernel':['linear']},\n",
    "              {'C':[1,10,100,1000],'kernel':['rbf'],'gamma':[0.1,0.01,0.001,0.2,0,3,0.4,0.5]},\n",
    "              {'C':[1,10,100,1000],'kernel':['poly'],'gamma':[0.1,0.2,0,3,0.4,0.5,0.01,0.001],'degree':[2,3,4,5]}]\n",
    "grid_search = GridSearchCV(estimator=classifier,param_grid=parameters,scoring='accuracy',cv=5,n_jobs=-1) \n",
    "grid_search = grid_search.fit(x_train,y_train)"
   ]
  },
  {
   "cell_type": "code",
   "execution_count": 29,
   "metadata": {},
   "outputs": [
    {
     "data": {
      "text/plain": [
       "0.6592261904761905"
      ]
     },
     "execution_count": 29,
     "metadata": {},
     "output_type": "execute_result"
    }
   ],
   "source": [
    "best_accuracy = grid_search.best_score_\n",
    "best_accuracy"
   ]
  },
  {
   "cell_type": "code",
   "execution_count": 30,
   "metadata": {},
   "outputs": [
    {
     "data": {
      "text/plain": [
       "{'C': 1, 'kernel': 'linear'}"
      ]
     },
     "execution_count": 30,
     "metadata": {},
     "output_type": "execute_result"
    }
   ],
   "source": [
    "best_parameters = grid_search.best_params_\n",
    "best_parameters"
   ]
  },
  {
   "cell_type": "code",
   "execution_count": 35,
   "metadata": {},
   "outputs": [
    {
     "name": "stdout",
     "output_type": "stream",
     "text": [
      "Accuracy using Confusion Matrix:  64.88 %\n"
     ]
    }
   ],
   "source": [
    "classifier = SVC(C=1,kernel='linear')\n",
    "classifier.fit(x_train,y_train)\n",
    "\n",
    "# Creating a y_pred vector with predictions for test-set\n",
    "y_pred = classifier.predict(x_test)\n",
    "\n",
    "# Using confusion matrix for accuracy calculation\n",
    "from sklearn.metrics import confusion_matrix\n",
    "cm = confusion_matrix(y_test,y_pred)\n",
    "\n",
    "# Calculating accuracy percentage\n",
    "print('Accuracy using Confusion Matrix: ',((cm[0][0]+cm[1][1])*100/(cm[0][0]+cm[1][1]+cm[0][1]+cm[1][0])).round(2),'%')"
   ]
  },
  {
   "cell_type": "markdown",
   "metadata": {},
   "source": [
    "# Accuracy after Grid-Search Optimal Parameters    : 64.88 %\n",
    "# Mean accuracy using 10-fold Cross Validation     : 65.92 %"
   ]
  },
  {
   "cell_type": "code",
   "execution_count": null,
   "metadata": {},
   "outputs": [],
   "source": []
  }
 ],
 "metadata": {
  "kernelspec": {
   "display_name": "Python 3",
   "language": "python",
   "name": "python3"
  },
  "language_info": {
   "codemirror_mode": {
    "name": "ipython",
    "version": 3
   },
   "file_extension": ".py",
   "mimetype": "text/x-python",
   "name": "python",
   "nbconvert_exporter": "python",
   "pygments_lexer": "ipython3",
   "version": "3.7.4"
  }
 },
 "nbformat": 4,
 "nbformat_minor": 2
}
